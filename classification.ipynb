{
 "cells": [
  {
   "cell_type": "code",
   "execution_count": 2,
   "metadata": {},
   "outputs": [
    {
     "name": "stderr",
     "output_type": "stream",
     "text": [
      "/home/muhiddin/miniconda3/envs/slt/lib/python3.6/site-packages/tqdm/auto.py:22: TqdmWarning: IProgress not found. Please update jupyter and ipywidgets. See https://ipywidgets.readthedocs.io/en/stable/user_install.html\n",
      "  from .autonotebook import tqdm as notebook_tqdm\n",
      "Downloading builder script: 3.61kB [00:00, 3.55MB/s]                   \n",
      "Downloading metadata: 1.66kB [00:00, 2.56MB/s]                 \n"
     ]
    },
    {
     "name": "stdout",
     "output_type": "stream",
     "text": [
      "Downloading and preparing dataset cifar10/plain_text (download: 162.60 MiB, generated: 130.30 MiB, post-processed: Unknown size, total: 292.90 MiB) to /home/muhiddin/.cache/huggingface/datasets/cifar10/plain_text/1.0.0/447d6ec4733dddd1ce3bb577c7166b986eaa4c538dcd9e805ba61f35674a9de4...\n"
     ]
    },
    {
     "name": "stderr",
     "output_type": "stream",
     "text": [
      "Downloading data: 100%|██████████| 170M/170M [01:05<00:00, 2.58MB/s]   \n",
      "                                                                                      "
     ]
    },
    {
     "name": "stdout",
     "output_type": "stream",
     "text": [
      "Dataset cifar10 downloaded and prepared to /home/muhiddin/.cache/huggingface/datasets/cifar10/plain_text/1.0.0/447d6ec4733dddd1ce3bb577c7166b986eaa4c538dcd9e805ba61f35674a9de4. Subsequent calls will reuse this data.\n"
     ]
    },
    {
     "name": "stderr",
     "output_type": "stream",
     "text": [
      "\r"
     ]
    },
    {
     "data": {
      "text/plain": [
       "Dataset({\n",
       "    features: ['img', 'label'],\n",
       "    num_rows: 50000\n",
       "})"
      ]
     },
     "execution_count": 2,
     "metadata": {},
     "output_type": "execute_result"
    }
   ],
   "source": [
    "# import CIFAR-10 dataset from HuggingFace\n",
    "from datasets import load_dataset\n",
    "\n",
    "dataset_train = load_dataset(\n",
    "    'cifar10',\n",
    "    split='train', # training dataset\n",
    "    ignore_verifications=True  # set to True if seeing splits Error\n",
    ")\n",
    "\n",
    "dataset_train"
   ]
  },
  {
   "cell_type": "code",
   "execution_count": 3,
   "metadata": {},
   "outputs": [
    {
     "data": {
      "text/plain": [
       "10"
      ]
     },
     "execution_count": 3,
     "metadata": {},
     "output_type": "execute_result"
    }
   ],
   "source": [
    "# check how many labels/number of classes\n",
    "num_classes = len(set(dataset_train['label']))\n",
    "num_classes"
   ]
  },
  {
   "cell_type": "code",
   "execution_count": 4,
   "metadata": {},
   "outputs": [
    {
     "data": {
      "image/png": "[encoded data removed]",
      "text/plain": [
       "<PIL.PngImagePlugin.PngImageFile image mode=RGB size=32x32 at 0x7D78A9B839B0>"
      ]
     },
     "execution_count": 4,
     "metadata": {},
     "output_type": "execute_result"
    }
   ],
   "source": [
    "# let's view the image (it's very small)\n",
    "dataset_train[0]['img']"
   ]
  },
  {
   "cell_type": "code",
   "execution_count": 5,
   "metadata": {},
   "outputs": [
    {
     "data": {
      "text/plain": [
       "0"
      ]
     },
     "execution_count": 5,
     "metadata": {},
     "output_type": "execute_result"
    }
   ],
   "source": [
    "# let's view the image (it's very small)\n",
    "dataset_train[0]['label']"
   ]
  },
  {
   "cell_type": "code",
   "execution_count": 6,
   "metadata": {},
   "outputs": [],
   "source": [
    "import torchvision.transforms as transforms\n",
    "\n",
    "# image size\n",
    "img_size = 32\n",
    "\n",
    "# preprocess variable, to be used ahead\n",
    "preprocess = transforms.Compose([\n",
    "    transforms.Resize((img_size,img_size)),\n",
    "    transforms.ToTensor()\n",
    "])"
   ]
  },
  {
   "cell_type": "code",
   "execution_count": 8,
   "metadata": {},
   "outputs": [
    {
     "name": "stderr",
     "output_type": "stream",
     "text": [
      "  0%|          | 0/50000 [00:00<?, ?it/s]"
     ]
    },
    {
     "name": "stderr",
     "output_type": "stream",
     "text": [
      "100%|██████████| 50000/50000 [00:23<00:00, 2143.12it/s]\n"
     ]
    }
   ],
   "source": [
    "from tqdm.auto import tqdm\n",
    "\n",
    "inputs_train = []\n",
    "\n",
    "for record in tqdm(dataset_train):\n",
    "    image = record['img']\n",
    "    label = record['label']\n",
    "\n",
    "    # convert from grayscale to RGB\n",
    "    if image.mode == 'L':\n",
    "        image = image.convert(\"RGB\")\n",
    "        \n",
    "    # prepocessing\n",
    "    input_tensor = preprocess(image)\n",
    "    \n",
    "    # append to batch list\n",
    "    inputs_train.append([input_tensor, label]) "
   ]
  },
  {
   "cell_type": "code",
   "execution_count": 9,
   "metadata": {},
   "outputs": [
    {
     "name": "stdout",
     "output_type": "stream",
     "text": [
      "50000 torch.Size([3, 32, 32])\n"
     ]
    }
   ],
   "source": [
    "print(len(inputs_train), inputs_train[0][0].shape)"
   ]
  },
  {
   "cell_type": "code",
   "execution_count": 10,
   "metadata": {},
   "outputs": [],
   "source": [
    "mean = [0.4670, 0.4735, 0.4662]\n",
    "std = [0.2496, 0.2489, 0.2521]"
   ]
  },
  {
   "cell_type": "code",
   "execution_count": 11,
   "metadata": {},
   "outputs": [
    {
     "name": "stderr",
     "output_type": "stream",
     "text": [
      "100%|██████████| 50000/50000 [00:02<00:00, 18507.93it/s]\n"
     ]
    }
   ],
   "source": [
    "preprocess = transforms.Compose([\n",
    "    transforms.Normalize(mean=mean, std=std)\n",
    "])\n",
    "\n",
    "for i in tqdm(range(len(inputs_train))):\n",
    "    # prepocessing\n",
    "    input_tensor = preprocess(inputs_train[i][0])\n",
    "    # replace with normalized tensor\n",
    "    inputs_train[i][0] = input_tensor"
   ]
  },
  {
   "cell_type": "code",
   "execution_count": 18,
   "metadata": {},
   "outputs": [
    {
     "data": {
      "text/plain": [
       "tensor([[[-8.9689e-01, -9.1260e-01, -9.2831e-01,  ..., -8.6546e-01,\n",
       "          -5.8266e-01, -8.9689e-01],\n",
       "         [-8.9689e-01, -8.8117e-01, -9.1260e-01,  ..., -6.6121e-01,\n",
       "          -7.9893e-02, -8.6546e-01],\n",
       "         [-8.1833e-01, -6.4550e-01, -6.4181e-02,  ..., -2.9985e-01,\n",
       "          -1.3355e-03, -8.8117e-01],\n",
       "         ...,\n",
       "         [ 6.5854e-01,  6.2712e-01,  6.2712e-01,  ...,  5.1714e-01,\n",
       "           5.9570e-01,  5.7999e-01],\n",
       "         [ 6.8997e-01,  6.5854e-01,  6.7426e-01,  ...,  6.7426e-01,\n",
       "           6.5854e-01,  6.5854e-01],\n",
       "         [ 7.8424e-01,  7.5281e-01,  7.5281e-01,  ...,  7.5281e-01,\n",
       "           7.5281e-01,  7.5281e-01]],\n",
       "\n",
       "        [[-1.0358e+00, -1.0358e+00, -1.0358e+00,  ..., -9.8855e-01,\n",
       "          -7.2070e-01, -1.0358e+00],\n",
       "         [-1.0201e+00, -1.0831e+00, -1.1461e+00,  ..., -8.1523e-01,\n",
       "          -2.1652e-01, -1.0043e+00],\n",
       "         [-9.7279e-01, -9.2552e-01, -4.3710e-01,  ..., -4.5286e-01,\n",
       "          -1.5350e-01, -1.0201e+00],\n",
       "         ...,\n",
       "         [ 1.1227e+00,  1.0912e+00,  1.0912e+00,  ...,  7.2881e-01,\n",
       "           1.0912e+00,  1.1227e+00],\n",
       "         [ 1.1700e+00,  1.1227e+00,  1.1385e+00,  ...,  1.1069e+00,\n",
       "           1.1385e+00,  1.1385e+00],\n",
       "         [ 1.2645e+00,  1.2172e+00,  1.2172e+00,  ...,  1.2172e+00,\n",
       "           1.2172e+00,  1.2172e+00]],\n",
       "\n",
       "        [[-1.7404e+00, -1.7404e+00, -1.7559e+00,  ..., -1.6937e+00,\n",
       "          -1.4137e+00, -1.7093e+00],\n",
       "         [-1.7404e+00, -1.7248e+00, -1.7559e+00,  ..., -1.4137e+00,\n",
       "          -8.3815e-01, -1.6626e+00],\n",
       "         [-1.6159e+00, -1.4137e+00, -8.2260e-01,  ..., -9.4704e-01,\n",
       "          -6.9815e-01, -1.6626e+00],\n",
       "         ...,\n",
       "         [ 9.5185e-02,  6.4074e-02,  6.4074e-02,  ...,  6.4074e-02,\n",
       "           1.4185e-01,  6.4074e-02],\n",
       "         [ 1.2630e-01,  9.5185e-02,  1.1074e-01,  ...,  1.4185e-01,\n",
       "           1.2630e-01,  1.1074e-01],\n",
       "         [ 2.0407e-01,  1.7296e-01,  1.8852e-01,  ...,  1.7296e-01,\n",
       "           1.7296e-01,  1.8852e-01]]])"
      ]
     },
     "execution_count": 18,
     "metadata": {},
     "output_type": "execute_result"
    }
   ],
   "source": [
    "inputs_train[i][0]"
   ]
  },
  {
   "cell_type": "code",
   "execution_count": 19,
   "metadata": {},
   "outputs": [
    {
     "name": "stderr",
     "output_type": "stream",
     "text": [
      "Reusing dataset cifar10 (/home/muhiddin/.cache/huggingface/datasets/cifar10/plain_text/1.0.0/447d6ec4733dddd1ce3bb577c7166b986eaa4c538dcd9e805ba61f35674a9de4)\n"
     ]
    }
   ],
   "source": [
    "dataset_val = load_dataset(\n",
    "    'cifar10',\n",
    "    split='test',  # test set (used as validation set)\n",
    "    ignore_verifications=False  # set to True if seeing splits Error\n",
    ")"
   ]
  },
  {
   "cell_type": "markdown",
   "metadata": {},
   "source": [
    "https://github.com/pinecone-io/examples/blob/master/learn/search/image/image-retrieval-ebook/cnn/cifar10.ipynb"
   ]
  },
  {
   "cell_type": "code",
   "execution_count": 23,
   "metadata": {},
   "outputs": [
    {
     "data": {
      "text/plain": [
       "10"
      ]
     },
     "execution_count": 23,
     "metadata": {},
     "output_type": "execute_result"
    }
   ],
   "source": [
    "# check how many labels/number of classes\n",
    "num_classes1 = len(set(dataset_val['label']))\n",
    "num_classes1"
   ]
  },
  {
   "cell_type": "code",
   "execution_count": 24,
   "metadata": {},
   "outputs": [
    {
     "data": {
      "image/png": "[encoded data removed]",
      "text/plain": [
       "<PIL.PngImagePlugin.PngImageFile image mode=RGB size=32x32 at 0x7D78A86794A8>"
      ]
     },
     "execution_count": 24,
     "metadata": {},
     "output_type": "execute_result"
    }
   ],
   "source": [
    "# let's view the image (it's very small)\n",
    "dataset_val[0]['img']"
   ]
  },
  {
   "cell_type": "code",
   "execution_count": 26,
   "metadata": {},
   "outputs": [],
   "source": [
    "import torchvision.transforms as transforms\n",
    "\n",
    "# image size\n",
    "img_size = 32\n",
    "\n",
    "# preprocess variable, to be used ahead\n",
    "preprocess = transforms.Compose([\n",
    "    transforms.Resize((img_size,img_size)),\n",
    "    transforms.ToTensor()\n",
    "])"
   ]
  },
  {
   "cell_type": "code",
   "execution_count": 27,
   "metadata": {},
   "outputs": [
    {
     "name": "stderr",
     "output_type": "stream",
     "text": [
      "100%|██████████| 10000/10000 [00:04<00:00, 2238.93it/s]\n"
     ]
    }
   ],
   "source": [
    "from tqdm.auto import tqdm\n",
    "\n",
    "inputs_val = []\n",
    "\n",
    "for record in tqdm(dataset_val):\n",
    "    image = record['img']\n",
    "    label = record['label']\n",
    "\n",
    "    # convert from grayscale to RGB\n",
    "    if image.mode == 'L':\n",
    "        image = image.convert(\"RGB\")\n",
    "        \n",
    "    # prepocessing\n",
    "    input_tensor = preprocess(image)\n",
    "    \n",
    "    # append to batch list\n",
    "    inputs_val.append([input_tensor, label]) "
   ]
  },
  {
   "cell_type": "code",
   "execution_count": 28,
   "metadata": {},
   "outputs": [
    {
     "name": "stdout",
     "output_type": "stream",
     "text": [
      "10000 torch.Size([3, 32, 32])\n"
     ]
    }
   ],
   "source": [
    "print(len(inputs_val), inputs_val[0][0].shape)"
   ]
  },
  {
   "cell_type": "code",
   "execution_count": 29,
   "metadata": {},
   "outputs": [
    {
     "name": "stderr",
     "output_type": "stream",
     "text": [
      "100%|██████████| 10000/10000 [00:00<00:00, 26144.58it/s]\n"
     ]
    }
   ],
   "source": [
    "preprocess = transforms.Compose([\n",
    "    transforms.Normalize(mean=mean, std=std)\n",
    "])\n",
    "\n",
    "for i in tqdm(range(len(inputs_val))):\n",
    "    # prepocessing\n",
    "    input_tensor = preprocess(inputs_val[i][0])\n",
    "    # replace with normalized tensor\n",
    "    inputs_val[i][0] = input_tensor"
   ]
  },
  {
   "cell_type": "code",
   "execution_count": 31,
   "metadata": {},
   "outputs": [],
   "source": [
    "import torch\n",
    "batch_size = 64\n",
    "\n",
    "# add to dataloaders\n",
    "dloader_train = torch.utils.data.DataLoader(\n",
    "  \tinputs_train,\n",
    "    batch_size=batch_size,\n",
    "    shuffle=True\n",
    ")\n",
    "\n",
    "dloader_val = torch.utils.data.DataLoader(\n",
    "  \tinputs_val,\n",
    "    batch_size=batch_size,\n",
    "    shuffle=False\n",
    ")"
   ]
  },
  {
   "cell_type": "code",
   "execution_count": 33,
   "metadata": {},
   "outputs": [],
   "source": [
    "import torch\n",
    "import torch.nn as nn\n",
    "import torch.optim as optim\n",
    "import torch.nn.functional as F"
   ]
  },
  {
   "cell_type": "code",
   "execution_count": 34,
   "metadata": {},
   "outputs": [],
   "source": [
    "# creating a CNN class\n",
    "class ConvNeuralNet(nn.Module):\n",
    "\t#  determine what layers and their order in CNN object \n",
    "    def __init__(self, num_classes):\n",
    "        super(ConvNeuralNet, self).__init__()\n",
    "        self.conv_layer1 = nn.Conv2d(in_channels=3, out_channels=64, kernel_size=4, padding=1)\n",
    "        self.relu1 = nn.ReLU()\n",
    "        self.max_pool1 = nn.MaxPool2d(kernel_size=3, stride=2)\n",
    "\n",
    "        self.conv_layer2 = nn.Conv2d(in_channels=64, out_channels=192, kernel_size=4, padding=1)\n",
    "        self.relu2 = nn.ReLU()\n",
    "        self.max_pool2 = nn.MaxPool2d(kernel_size=3, stride=2)\n",
    "\n",
    "        self.conv_layer3 = nn.Conv2d(in_channels=192, out_channels=384, kernel_size=3, padding=1)\n",
    "        self.relu3 = nn.ReLU()\n",
    "        \n",
    "        self.conv_layer4 = nn.Conv2d(in_channels=384, out_channels=256, kernel_size=3, padding=1)\n",
    "        self.relu4 = nn.ReLU()\n",
    "\n",
    "        self.conv_layer5 = nn.Conv2d(in_channels=256, out_channels=256, kernel_size=3, padding=1)\n",
    "        self.relu5 = nn.ReLU()\n",
    "        self.max_pool5 = nn.MaxPool2d(kernel_size=3, stride=2)\n",
    "        \n",
    "        self.dropout6 = nn.Dropout(p=0.5)\n",
    "        self.fc6 = nn.Linear(1024, 512)\n",
    "        self.relu6 = nn.ReLU()\n",
    "        self.dropout7 = nn.Dropout(p=0.5)\n",
    "        self.fc7 = nn.Linear(512, 256)\n",
    "        self.relu7 = nn.ReLU()\n",
    "        self.fc8 = nn.Linear(256, num_classes)\n",
    "    \n",
    "    # progresses data across layers    \n",
    "    def forward(self, x):\n",
    "        out = self.conv_layer1(x)\n",
    "        out = self.relu1(out)\n",
    "        out = self.max_pool1(out)\n",
    "        \n",
    "        out = self.conv_layer2(out)\n",
    "        out = self.relu2(out)\n",
    "        out = self.max_pool2(out)\n",
    "\n",
    "        out = self.conv_layer3(out)\n",
    "        out = self.relu3(out)\n",
    "\n",
    "        out = self.conv_layer4(out)\n",
    "        out = self.relu4(out)\n",
    "\n",
    "        out = self.conv_layer5(out)\n",
    "        out = self.relu5(out)\n",
    "        out = self.max_pool5(out)\n",
    "        \n",
    "        out = out.reshape(out.size(0), -1)\n",
    "        \n",
    "        out = self.dropout6(out)\n",
    "        out = self.fc6(out)\n",
    "        out = self.relu6(out)\n",
    "\n",
    "        out = self.dropout7(out)\n",
    "        out = self.fc7(out)\n",
    "        out = self.relu7(out)\n",
    "\n",
    "        out = self.fc8(out)  # final logits\n",
    "        return out"
   ]
  },
  {
   "cell_type": "code",
   "execution_count": 35,
   "metadata": {},
   "outputs": [],
   "source": [
    "import torch\n",
    "\n",
    "device = \"cuda\" if torch.cuda.is_available() else \"cpu\"\n",
    "# set the model to device\n",
    "model = ConvNeuralNet(num_classes).to(device)"
   ]
  },
  {
   "cell_type": "code",
   "execution_count": 36,
   "metadata": {},
   "outputs": [],
   "source": [
    "# set loss function\n",
    "loss_func = nn.CrossEntropyLoss()\n",
    "# set learning rate \n",
    "lr = 0.008\n",
    "# set optimizer as SGD\n",
    "optimizer = torch.optim.SGD(\n",
    "    model.parameters(), lr=lr\n",
    ") "
   ]
  },
  {
   "cell_type": "code",
   "execution_count": 37,
   "metadata": {},
   "outputs": [
    {
     "name": "stdout",
     "output_type": "stream",
     "text": [
      "Epoch [1/50], Loss: 2.3063, Val-loss: 2.3007, Val-acc: 13.0%\n",
      "Epoch [2/50], Loss: 2.3075, Val-loss: 2.2912, Val-acc: 13.7%\n",
      "Epoch [3/50], Loss: 1.9427, Val-loss: 2.0315, Val-acc: 21.4%\n",
      "Epoch [4/50], Loss: 1.8152, Val-loss: 2.3388, Val-acc: 13.8%\n",
      "Epoch [5/50], Loss: 1.7177, Val-loss: 1.8383, Val-acc: 27.0%\n",
      "Epoch [6/50], Loss: 1.6289, Val-loss: 1.7192, Val-acc: 33.3%\n",
      "Epoch [7/50], Loss: 1.7480, Val-loss: 1.7005, Val-acc: 35.8%\n",
      "Epoch [8/50], Loss: 1.4870, Val-loss: 1.5282, Val-acc: 41.0%\n",
      "Epoch [9/50], Loss: 1.2998, Val-loss: 1.4386, Val-acc: 45.2%\n",
      "Epoch [10/50], Loss: 1.3070, Val-loss: 1.5313, Val-acc: 42.6%\n",
      "Epoch [11/50], Loss: 1.1706, Val-loss: 1.4472, Val-acc: 46.1%\n",
      "Epoch [12/50], Loss: 0.7350, Val-loss: 1.3343, Val-acc: 51.4%\n",
      "Epoch [13/50], Loss: 1.1087, Val-loss: 1.2340, Val-acc: 54.8%\n",
      "Epoch [14/50], Loss: 0.9597, Val-loss: 1.1907, Val-acc: 57.6%\n",
      "Epoch [15/50], Loss: 1.1769, Val-loss: 1.6758, Val-acc: 46.0%\n",
      "Epoch [16/50], Loss: 0.7629, Val-loss: 1.0398, Val-acc: 62.8%\n",
      "Epoch [17/50], Loss: 0.7474, Val-loss: 1.0666, Val-acc: 63.0%\n",
      "Epoch [18/50], Loss: 1.2566, Val-loss: 0.9894, Val-acc: 64.6%\n",
      "Epoch [19/50], Loss: 1.1277, Val-loss: 0.9464, Val-acc: 65.8%\n",
      "Epoch [20/50], Loss: 1.1450, Val-loss: 1.2860, Val-acc: 55.8%\n",
      "Epoch [21/50], Loss: 0.7220, Val-loss: 0.8979, Val-acc: 69.0%\n",
      "Epoch [22/50], Loss: 1.0454, Val-loss: 0.9357, Val-acc: 67.1%\n",
      "Epoch [23/50], Loss: 1.0491, Val-loss: 0.9659, Val-acc: 65.8%\n",
      "Epoch [24/50], Loss: 0.7659, Val-loss: 0.9060, Val-acc: 69.4%\n",
      "Epoch [25/50], Loss: 0.9763, Val-loss: 0.9804, Val-acc: 66.7%\n",
      "Epoch [26/50], Loss: 0.6044, Val-loss: 0.8483, Val-acc: 72.1%\n",
      "Epoch [27/50], Loss: 0.3333, Val-loss: 0.7892, Val-acc: 73.9%\n",
      "Epoch [28/50], Loss: 0.8451, Val-loss: 0.9361, Val-acc: 69.5%\n",
      "Epoch [29/50], Loss: 0.3655, Val-loss: 0.7409, Val-acc: 75.3%\n",
      "Epoch [30/50], Loss: 0.8612, Val-loss: 0.8132, Val-acc: 74.5%\n",
      "Epoch [31/50], Loss: 0.6584, Val-loss: 0.8032, Val-acc: 74.7%\n",
      "Epoch [32/50], Loss: 0.3046, Val-loss: 0.8751, Val-acc: 74.0%\n",
      "Epoch [33/50], Loss: 0.1824, Val-loss: 0.7610, Val-acc: 77.0%\n",
      "Epoch [34/50], Loss: 0.2412, Val-loss: 0.6610, Val-acc: 79.0%\n",
      "Epoch [35/50], Loss: 0.7855, Val-loss: 0.8066, Val-acc: 74.9%\n",
      "Epoch [36/50], Loss: 0.2024, Val-loss: 0.6939, Val-acc: 79.2%\n",
      "Epoch [37/50], Loss: 0.2841, Val-loss: 0.9410, Val-acc: 75.1%\n",
      "Epoch [38/50], Loss: 0.1500, Val-loss: 0.7449, Val-acc: 79.2%\n",
      "Epoch [39/50], Loss: 0.0838, Val-loss: 0.7519, Val-acc: 78.9%\n",
      "Epoch [40/50], Loss: 0.2623, Val-loss: 0.9904, Val-acc: 74.8%\n",
      "Epoch [41/50], Loss: 0.1168, Val-loss: 0.8330, Val-acc: 79.3%\n",
      "Epoch [42/50], Loss: 0.0317, Val-loss: 0.7966, Val-acc: 79.4%\n",
      "Epoch [43/50], Loss: 0.2436, Val-loss: 0.9191, Val-acc: 76.1%\n",
      "Epoch [44/50], Loss: 0.1613, Val-loss: 0.9378, Val-acc: 76.9%\n",
      "Epoch [45/50], Loss: 0.0375, Val-loss: 0.7810, Val-acc: 80.5%\n",
      "Epoch [46/50], Loss: 0.0384, Val-loss: 0.8762, Val-acc: 79.5%\n",
      "Epoch [47/50], Loss: 0.0633, Val-loss: 0.9426, Val-acc: 78.6%\n",
      "Epoch [48/50], Loss: 0.0423, Val-loss: 0.9275, Val-acc: 79.4%\n",
      "Epoch [49/50], Loss: 0.0426, Val-loss: 0.9000, Val-acc: 80.0%\n",
      "Epoch [50/50], Loss: 0.3481, Val-loss: 1.5833, Val-acc: 70.9%\n"
     ]
    }
   ],
   "source": [
    "num_epochs = 50\n",
    "for epoch in range(num_epochs):\n",
    "    model.train()\n",
    "\t\t# load in the data in batches\n",
    "    for i, (images, labels) in enumerate(dloader_train):  \n",
    "        # move tensors to the configured device\n",
    "        images = images.to(device)\n",
    "        labels = labels.to(device)\n",
    "        \n",
    "        # forward propagation\n",
    "        outputs = model(images)\n",
    "        loss = loss_func(outputs, labels)\n",
    "        \n",
    "        # backward propagation and optimize\n",
    "        optimizer.zero_grad()\n",
    "        loss.backward()\n",
    "        optimizer.step()\n",
    "        \n",
    "    # at end of epoch check validation loss and acc\n",
    "    with torch.no_grad():\n",
    "      \t# switch model to eval (not train) model\n",
    "        model.eval()\n",
    "        correct = 0\n",
    "        total = 0\n",
    "        all_val_loss = []\n",
    "        for images, labels in dloader_val:\n",
    "            images = images.to(device)\n",
    "            labels = labels.to(device)\n",
    "            outputs = model(images)\n",
    "            total += labels.size(0)\n",
    "            # calculate predictions\n",
    "            predicted = torch.argmax(outputs, dim=1)\n",
    "            # calculate actual values\n",
    "            correct += (predicted == labels).sum().item()\n",
    "            # calculate the loss\n",
    "            all_val_loss.append(loss_func(outputs, labels).item())\n",
    "        # calculate val-loss\n",
    "        mean_val_loss = sum(all_val_loss) / len(all_val_loss)\n",
    "        # calculate val-accuracy\n",
    "        mean_val_acc = 100 * (correct / total)\n",
    "    print(\n",
    "        'Epoch [{}/{}], Loss: {:.4f}, Val-loss: {:.4f}, Val-acc: {:.1f}%'.format(\n",
    "            epoch+1, num_epochs, loss.item(), mean_val_loss, mean_val_acc\n",
    "        )\n",
    "    )"
   ]
  },
  {
   "cell_type": "code",
   "execution_count": 38,
   "metadata": {},
   "outputs": [
    {
     "data": {
      "text/plain": [
       "ConvNeuralNet(\n",
       "  (conv_layer1): Conv2d(3, 64, kernel_size=(4, 4), stride=(1, 1), padding=(1, 1))\n",
       "  (relu1): ReLU()\n",
       "  (max_pool1): MaxPool2d(kernel_size=3, stride=2, padding=0, dilation=1, ceil_mode=False)\n",
       "  (conv_layer2): Conv2d(64, 192, kernel_size=(4, 4), stride=(1, 1), padding=(1, 1))\n",
       "  (relu2): ReLU()\n",
       "  (max_pool2): MaxPool2d(kernel_size=3, stride=2, padding=0, dilation=1, ceil_mode=False)\n",
       "  (conv_layer3): Conv2d(192, 384, kernel_size=(3, 3), stride=(1, 1), padding=(1, 1))\n",
       "  (relu3): ReLU()\n",
       "  (conv_layer4): Conv2d(384, 256, kernel_size=(3, 3), stride=(1, 1), padding=(1, 1))\n",
       "  (relu4): ReLU()\n",
       "  (conv_layer5): Conv2d(256, 256, kernel_size=(3, 3), stride=(1, 1), padding=(1, 1))\n",
       "  (relu5): ReLU()\n",
       "  (max_pool5): MaxPool2d(kernel_size=3, stride=2, padding=0, dilation=1, ceil_mode=False)\n",
       "  (dropout6): Dropout(p=0.5, inplace=False)\n",
       "  (fc6): Linear(in_features=1024, out_features=512, bias=True)\n",
       "  (relu6): ReLU()\n",
       "  (dropout7): Dropout(p=0.5, inplace=False)\n",
       "  (fc7): Linear(in_features=512, out_features=256, bias=True)\n",
       "  (relu7): ReLU()\n",
       "  (fc8): Linear(in_features=256, out_features=10, bias=True)\n",
       ")"
      ]
     },
     "execution_count": 38,
     "metadata": {},
     "output_type": "execute_result"
    }
   ],
   "source": [
    "# save to file\n",
    "torch.save(model, 'cnn.pt')\n",
    "# load from file and switch to inference mode\n",
    "model = torch.load('cnn.pt')\n",
    "model.eval()"
   ]
  },
  {
   "cell_type": "markdown",
   "metadata": {},
   "source": [
    "# Inference"
   ]
  },
  {
   "cell_type": "code",
   "execution_count": 39,
   "metadata": {},
   "outputs": [
    {
     "name": "stdout",
     "output_type": "stream",
     "text": [
      "cuda\n"
     ]
    }
   ],
   "source": [
    "import torch\n",
    "\n",
    "model = torch.load('cnn.pt')\n",
    "# switch to evaluation mode and device\n",
    "model.eval().to(device)\n",
    "print(device)"
   ]
  },
  {
   "cell_type": "code",
   "execution_count": 40,
   "metadata": {},
   "outputs": [
    {
     "name": "stderr",
     "output_type": "stream",
     "text": [
      "Reusing dataset cifar10 (/home/muhiddin/.cache/huggingface/datasets/cifar10/plain_text/1.0.0/447d6ec4733dddd1ce3bb577c7166b986eaa4c538dcd9e805ba61f35674a9de4)\n"
     ]
    },
    {
     "data": {
      "text/plain": [
       "Dataset({\n",
       "    features: ['img', 'label'],\n",
       "    num_rows: 10000\n",
       "})"
      ]
     },
     "execution_count": 40,
     "metadata": {},
     "output_type": "execute_result"
    }
   ],
   "source": [
    "# import CIFAR-10 dataset from HuggingFace\n",
    "from datasets import load_dataset\n",
    "\n",
    "data_test = load_dataset(\n",
    "    'cifar10',\n",
    "    split='test'  # test set\n",
    ")\n",
    "data_test"
   ]
  },
  {
   "cell_type": "code",
   "execution_count": 42,
   "metadata": {},
   "outputs": [],
   "source": [
    "import torchvision.transforms as transforms\n",
    "\n",
    "# image size\n",
    "img_size = 32\n",
    "\n",
    "# preprocess variable, to be used ahead\n",
    "preprocess = transforms.Compose([\n",
    "    transforms.Resize((img_size,img_size)),\n",
    "    transforms.ToTensor()\n",
    "])"
   ]
  },
  {
   "cell_type": "code",
   "execution_count": 43,
   "metadata": {},
   "outputs": [],
   "source": [
    "input_tensors = []\n",
    "for image in data_test['img'][:10]:\n",
    "    tensor = preprocess(image)\n",
    "    input_tensors.append(tensor.to(device))"
   ]
  },
  {
   "cell_type": "code",
   "execution_count": 44,
   "metadata": {},
   "outputs": [
    {
     "data": {
      "text/plain": [
       "10"
      ]
     },
     "execution_count": 44,
     "metadata": {},
     "output_type": "execute_result"
    }
   ],
   "source": [
    "# we have 10 tensors\n",
    "len(input_tensors)"
   ]
  },
  {
   "cell_type": "code",
   "execution_count": 45,
   "metadata": {},
   "outputs": [
    {
     "data": {
      "text/plain": [
       "torch.Size([3, 32, 32])"
      ]
     },
     "execution_count": 45,
     "metadata": {},
     "output_type": "execute_result"
    }
   ],
   "source": [
    "# all 32x32 dimensional with 3 color channels\n",
    "input_tensors[0].shape"
   ]
  },
  {
   "cell_type": "code",
   "execution_count": 46,
   "metadata": {},
   "outputs": [
    {
     "data": {
      "text/plain": [
       "torch.Size([10, 3, 32, 32])"
      ]
     },
     "execution_count": 46,
     "metadata": {},
     "output_type": "execute_result"
    }
   ],
   "source": [
    "# stack into a single tensor\n",
    "input_tensors = torch.stack(input_tensors)\n",
    "input_tensors.shape"
   ]
  },
  {
   "cell_type": "code",
   "execution_count": 47,
   "metadata": {},
   "outputs": [
    {
     "data": {
      "text/plain": [
       "tensor([8, 8, 3, 8, 3, 3, 3, 3, 3, 4], device='cuda:0')"
      ]
     },
     "execution_count": 47,
     "metadata": {},
     "output_type": "execute_result"
    }
   ],
   "source": [
    "# process through model to get output logits\n",
    "outputs = model(input_tensors)\n",
    "# calculate predictions\n",
    "predicted = torch.argmax(outputs, dim=1)\n",
    "predicted"
   ]
  },
  {
   "cell_type": "code",
   "execution_count": 48,
   "metadata": {},
   "outputs": [
    {
     "data": {
      "text/plain": [
       "torch.Size([10])"
      ]
     },
     "execution_count": 48,
     "metadata": {},
     "output_type": "execute_result"
    }
   ],
   "source": [
    "predicted.shape"
   ]
  },
  {
   "cell_type": "code",
   "execution_count": 49,
   "metadata": {},
   "outputs": [
    {
     "data": {
      "text/plain": [
       "['airplane',\n",
       " 'automobile',\n",
       " 'bird',\n",
       " 'cat',\n",
       " 'deer',\n",
       " 'dog',\n",
       " 'frog',\n",
       " 'horse',\n",
       " 'ship',\n",
       " 'truck']"
      ]
     },
     "execution_count": 49,
     "metadata": {},
     "output_type": "execute_result"
    }
   ],
   "source": [
    "# here are the class names\n",
    "data_test.features['label'].names"
   ]
  },
  {
   "cell_type": "code",
   "execution_count": 50,
   "metadata": {},
   "outputs": [
    {
     "data": {
      "text/plain": [
       "8"
      ]
     },
     "execution_count": 50,
     "metadata": {},
     "output_type": "execute_result"
    }
   ],
   "source": [
    "data_test[1]['label']"
   ]
  },
  {
   "cell_type": "code",
   "execution_count": 52,
   "metadata": {},
   "outputs": [
    {
     "data": {
      "image/png": "[encoded data removed]",
      "text/plain": [
       "<Figure size 432x288 with 1 Axes>"
      ]
     },
     "metadata": {
      "needs_background": "light"
     },
     "output_type": "display_data"
    },
    {
     "name": "stdout",
     "output_type": "stream",
     "text": [
      "ship\n"
     ]
    },
    {
     "data": {
      "image/png": "[encoded data removed]",
      "text/plain": [
       "<Figure size 432x288 with 1 Axes>"
      ]
     },
     "metadata": {
      "needs_background": "light"
     },
     "output_type": "display_data"
    },
    {
     "name": "stdout",
     "output_type": "stream",
     "text": [
      "ship\n"
     ]
    },
    {
     "data": {
      "image/png": "[encoded data removed]",
      "text/plain": [
       "<Figure size 432x288 with 1 Axes>"
      ]
     },
     "metadata": {
      "needs_background": "light"
     },
     "output_type": "display_data"
    },
    {
     "name": "stdout",
     "output_type": "stream",
     "text": [
      "cat\n"
     ]
    },
    {
     "data": {
      "image/png": "[encoded data removed]",
      "text/plain": [
       "<Figure size 432x288 with 1 Axes>"
      ]
     },
     "metadata": {
      "needs_background": "light"
     },
     "output_type": "display_data"
    },
    {
     "name": "stdout",
     "output_type": "stream",
     "text": [
      "ship\n"
     ]
    },
    {
     "data": {
      "image/png": "[encoded data removed]",
      "text/plain": [
       "<Figure size 432x288 with 1 Axes>"
      ]
     },
     "metadata": {
      "needs_background": "light"
     },
     "output_type": "display_data"
    },
    {
     "name": "stdout",
     "output_type": "stream",
     "text": [
      "cat\n"
     ]
    },
    {
     "data": {
      "image/png": "[encoded data removed]",
      "text/plain": [
       "<Figure size 432x288 with 1 Axes>"
      ]
     },
     "metadata": {
      "needs_background": "light"
     },
     "output_type": "display_data"
    },
    {
     "name": "stdout",
     "output_type": "stream",
     "text": [
      "cat\n"
     ]
    },
    {
     "data": {
      "image/png": "[encoded data removed]",
      "text/plain": [
       "<Figure size 432x288 with 1 Axes>"
      ]
     },
     "metadata": {
      "needs_background": "light"
     },
     "output_type": "display_data"
    },
    {
     "name": "stdout",
     "output_type": "stream",
     "text": [
      "cat\n"
     ]
    },
    {
     "data": {
      "image/png": "[encoded data removed]",
      "text/plain": [
       "<Figure size 432x288 with 1 Axes>"
      ]
     },
     "metadata": {
      "needs_background": "light"
     },
     "output_type": "display_data"
    },
    {
     "name": "stdout",
     "output_type": "stream",
     "text": [
      "cat\n"
     ]
    },
    {
     "data": {
      "image/png": "[encoded data removed]",
      "text/plain": [
       "<Figure size 432x288 with 1 Axes>"
      ]
     },
     "metadata": {
      "needs_background": "light"
     },
     "output_type": "display_data"
    },
    {
     "name": "stdout",
     "output_type": "stream",
     "text": [
      "cat\n"
     ]
    },
    {
     "data": {
      "image/png": "[encoded data removed]",
      "text/plain": [
       "<Figure size 432x288 with 1 Axes>"
      ]
     },
     "metadata": {
      "needs_background": "light"
     },
     "output_type": "display_data"
    },
    {
     "name": "stdout",
     "output_type": "stream",
     "text": [
      "deer\n"
     ]
    }
   ],
   "source": [
    "import matplotlib.pyplot as plt\n",
    "\n",
    "for i, image in enumerate(data_test['img'][:10]):\n",
    "    plt.imshow(image)\n",
    "    plt.show()\n",
    "    print(data_test.features['label'].names[predicted[i]])"
   ]
  },
  {
   "cell_type": "code",
   "execution_count": null,
   "metadata": {},
   "outputs": [],
   "source": []
  }
 ],
 "metadata": {
  "kernelspec": {
   "display_name": "slt",
   "language": "python",
   "name": "python3"
  },
  "language_info": {
   "codemirror_mode": {
    "name": "ipython",
    "version": 3
   },
   "file_extension": ".py",
   "mimetype": "text/x-python",
   "name": "python",
   "nbconvert_exporter": "python",
   "pygments_lexer": "ipython3",
   "version": "3.6.13"
  }
 },
 "nbformat": 4,
 "nbformat_minor": 2
}
